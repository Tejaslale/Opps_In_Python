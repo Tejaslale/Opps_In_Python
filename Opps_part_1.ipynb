{
 "cells": [
  {
   "cell_type": "code",
   "execution_count": 3,
   "id": "540bc6a2",
   "metadata": {},
   "outputs": [],
   "source": [
    "a = 1"
   ]
  },
  {
   "cell_type": "code",
   "execution_count": 4,
   "id": "d61a884f",
   "metadata": {},
   "outputs": [
    {
     "name": "stdout",
     "output_type": "stream",
     "text": [
      "<class 'int'>\n"
     ]
    }
   ],
   "source": [
    "print(type(a))"
   ]
  },
  {
   "cell_type": "code",
   "execution_count": 5,
   "id": "01c8efa1",
   "metadata": {},
   "outputs": [
    {
     "name": "stdout",
     "output_type": "stream",
     "text": [
      "<class 'str'>\n"
     ]
    }
   ],
   "source": [
    "print(type(\"pwskills\"))"
   ]
  },
  {
   "cell_type": "code",
   "execution_count": 6,
   "id": "8f3f5d5b",
   "metadata": {},
   "outputs": [],
   "source": [
    "class lol:\n",
    "    pass"
   ]
  },
  {
   "cell_type": "code",
   "execution_count": 8,
   "id": "3d9e5534",
   "metadata": {},
   "outputs": [],
   "source": [
    "a = lol()"
   ]
  },
  {
   "cell_type": "code",
   "execution_count": 9,
   "id": "07e47e62",
   "metadata": {},
   "outputs": [
    {
     "data": {
      "text/plain": [
       "__main__.lol"
      ]
     },
     "execution_count": 9,
     "metadata": {},
     "output_type": "execute_result"
    }
   ],
   "source": [
    "type(a)"
   ]
  },
  {
   "cell_type": "code",
   "execution_count": 10,
   "id": "69fde7e1",
   "metadata": {},
   "outputs": [],
   "source": [
    "class pwskills :\n",
    "    \n",
    "    def welcome_msg(self):\n",
    "        print(\"welcome lol \")"
   ]
  },
  {
   "cell_type": "code",
   "execution_count": 11,
   "id": "26fd3184",
   "metadata": {},
   "outputs": [],
   "source": [
    "ram = pwskills()"
   ]
  },
  {
   "cell_type": "code",
   "execution_count": 14,
   "id": "ddb2e612",
   "metadata": {},
   "outputs": [
    {
     "name": "stdout",
     "output_type": "stream",
     "text": [
      "<class '__main__.pwskills'>\n"
     ]
    }
   ],
   "source": [
    "print(type(ram))"
   ]
  },
  {
   "cell_type": "code",
   "execution_count": 15,
   "id": "4c951df4",
   "metadata": {},
   "outputs": [
    {
     "name": "stdout",
     "output_type": "stream",
     "text": [
      "welcome lol \n"
     ]
    }
   ],
   "source": [
    "ram.welcome_msg()"
   ]
  },
  {
   "cell_type": "code",
   "execution_count": 22,
   "id": "dd125a70",
   "metadata": {},
   "outputs": [],
   "source": [
    "class pwskillsq :\n",
    "    \n",
    "    def welcome_msgg(self):\n",
    "        print('welcome loll loll')"
   ]
  },
  {
   "cell_type": "code",
   "execution_count": 23,
   "id": "5a1b8a15",
   "metadata": {},
   "outputs": [],
   "source": [
    "ramm = pwskillsq()"
   ]
  },
  {
   "cell_type": "code",
   "execution_count": 24,
   "id": "7bc93cbe",
   "metadata": {},
   "outputs": [
    {
     "name": "stdout",
     "output_type": "stream",
     "text": [
      "welcome loll loll\n"
     ]
    }
   ],
   "source": [
    "ramm.welcome_msgg()"
   ]
  },
  {
   "cell_type": "code",
   "execution_count": 30,
   "id": "26048f3c",
   "metadata": {},
   "outputs": [],
   "source": [
    "class pwskills1 :\n",
    "    \n",
    "    def __init__(self ,phone_number , email_id , student_id ):\n",
    "        self.phone_number = phone_number\n",
    "        self.email_id = email_id\n",
    "        self.student_id = student_id\n",
    "    \n",
    "    def return_student_deetials(self) : \n",
    "        return self.student_id ,self.phone_number ,self.email_id\n",
    "    "
   ]
  },
  {
   "cell_type": "code",
   "execution_count": 31,
   "id": "e53c72b0",
   "metadata": {},
   "outputs": [],
   "source": [
    "rohan = pwskills1(1221212,\"tejas@123\",112)"
   ]
  },
  {
   "cell_type": "code",
   "execution_count": 33,
   "id": "2a920814",
   "metadata": {},
   "outputs": [
    {
     "data": {
      "text/plain": [
       "'tejas@123'"
      ]
     },
     "execution_count": 33,
     "metadata": {},
     "output_type": "execute_result"
    }
   ],
   "source": [
    "rohan.email_id"
   ]
  },
  {
   "cell_type": "code",
   "execution_count": 34,
   "id": "33eaf642",
   "metadata": {},
   "outputs": [],
   "source": [
    "class pwskills2 :\n",
    "    \n",
    "    def __init__(sudh ,phone_number , email_id , student_id ):\n",
    "        sudh.phone_number1 = phone_number\n",
    "        sudh.email_id1 = email_id\n",
    "        sudh.student_id1 = student_id\n",
    "    \n",
    "    def return_student_deetials(sudh) : \n",
    "        return sudh.student_id1 ,sudh.phone_number1 ,sudh.email_id1\n",
    "    "
   ]
  },
  {
   "cell_type": "code",
   "execution_count": 38,
   "id": "95aed3f2",
   "metadata": {},
   "outputs": [
    {
     "ename": "TypeError",
     "evalue": "pwskills2.__init__() missing 3 required positional arguments: 'phone_number', 'email_id', and 'student_id'",
     "output_type": "error",
     "traceback": [
      "\u001b[0;31m---------------------------------------------------------------------------\u001b[0m",
      "\u001b[0;31mTypeError\u001b[0m                                 Traceback (most recent call last)",
      "Cell \u001b[0;32mIn[38], line 1\u001b[0m\n\u001b[0;32m----> 1\u001b[0m rohani \u001b[38;5;241m=\u001b[39m pwskills2()\n",
      "\u001b[0;31mTypeError\u001b[0m: pwskills2.__init__() missing 3 required positional arguments: 'phone_number', 'email_id', and 'student_id'"
     ]
    }
   ],
   "source": [
    "rohani = pwskills2(1212,\"ffw\")"
   ]
  },
  {
   "cell_type": "code",
   "execution_count": 37,
   "id": "9df4912e",
   "metadata": {},
   "outputs": [
    {
     "name": "stdout",
     "output_type": "stream",
     "text": [
      "welcome lol \n"
     ]
    }
   ],
   "source": [
    "rohani."
   ]
  },
  {
   "cell_type": "code",
   "execution_count": null,
   "id": "069fe7f4",
   "metadata": {},
   "outputs": [],
   "source": []
  }
 ],
 "metadata": {
  "kernelspec": {
   "display_name": "Python 3 (ipykernel)",
   "language": "python",
   "name": "python3"
  },
  "language_info": {
   "codemirror_mode": {
    "name": "ipython",
    "version": 3
   },
   "file_extension": ".py",
   "mimetype": "text/x-python",
   "name": "python",
   "nbconvert_exporter": "python",
   "pygments_lexer": "ipython3",
   "version": "3.11.3"
  }
 },
 "nbformat": 4,
 "nbformat_minor": 5
}
